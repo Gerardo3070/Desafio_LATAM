{
 "cells": [
  {
   "cell_type": "code",
   "execution_count": 1,
   "metadata": {},
   "outputs": [
    {
     "name": "stdout",
     "output_type": "stream",
     "text": [
      "veamos la prueba\n"
     ]
    }
   ],
   "source": [
    "print('veamos la prueba')"
   ]
  }
 ],
 "metadata": {
  "kernelspec": {
   "display_name": "Python 3.10.4 ('LATAM')",
   "language": "python",
   "name": "python3"
  },
  "language_info": {
   "codemirror_mode": {
    "name": "ipython",
    "version": 3
   },
   "file_extension": ".py",
   "mimetype": "text/x-python",
   "name": "python",
   "nbconvert_exporter": "python",
   "pygments_lexer": "ipython3",
   "version": "3.10.4"
  },
  "orig_nbformat": 4,
  "vscode": {
   "interpreter": {
    "hash": "dbfacb1ab59a5dfc61260cf01cf7284eea1fec6c70554bc1d9a19a90bb21dde2"
   }
  }
 },
 "nbformat": 4,
 "nbformat_minor": 2
}
