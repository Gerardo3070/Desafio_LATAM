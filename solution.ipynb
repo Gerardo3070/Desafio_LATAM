{
 "cells": [
  {
   "cell_type": "code",
   "execution_count": null,
   "metadata": {},
   "outputs": [],
   "source": []
  }
 ],
 "metadata": {
  "kernelspec": {
   "display_name": "Python 3.10.4 ('LATAM')",
   "language": "python",
   "name": "python3"
  },
  "language_info": {
   "name": "python",
   "version": "3.10.4"
  },
  "orig_nbformat": 4,
  "vscode": {
   "interpreter": {
    "hash": "dbfacb1ab59a5dfc61260cf01cf7284eea1fec6c70554bc1d9a19a90bb21dde2"
   }
  }
 },
 "nbformat": 4,
 "nbformat_minor": 2
}
